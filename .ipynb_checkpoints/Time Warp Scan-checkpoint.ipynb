{
 "cells": [
  {
   "cell_type": "code",
   "execution_count": 1,
   "metadata": {},
   "outputs": [],
   "source": [
    "import cv2\n",
    "from IPython.display import clear_output, Image, display, HTML\n",
    "import numpy as np\n",
    "import time"
   ]
  },
  {
   "cell_type": "code",
   "execution_count": 3,
   "metadata": {},
   "outputs": [],
   "source": [
    "def get_factors(n):\n",
    "    list1=list()\n",
    "    for i in range(1,n+1):\n",
    "        if n%i==0:\n",
    "            list1.append(i)\n",
    "    return(list1)\n",
    "def get_duration(direction, frame_width, frame_height, duration):\n",
    "    if direction==\"lr\":\n",
    "        factors=get_factors(frame_width)\n",
    "        return factors[np.argmin(np.abs(np.array(factors)-duration*24))]\n",
    "    if direction==\"ud\":\n",
    "        factors=get_factors(frame_height)\n",
    "        return factors[np.argmin(np.abs(np.array(factors)-duration*24))]\n",
    "def get_settings(frame_width, frame_height):\n",
    "        #get user settings\n",
    "    filename = input(\"What would you like name this file?\\n\")\n",
    "    file = cv2.VideoWriter('{}.avi'.format(filename),cv2.VideoWriter_fourcc('M','J','P','G'), 24, (frame_width, frame_height))\n",
    "    direction = input(\"Which way should the blue line move? Enter \\'lr\\' for left right or \\'ud\\' for up down.\\n\")\n",
    "    while direction!='lr' and direction!='ud':\n",
    "        direction = input(\"I'm sorry that is an invalid response. Enter \\'lr\\' for left or \\'ud\\' for up down.\\n\")\n",
    "    duration = int(input(\"For how many seconds would you like to record?\\n\"))\n",
    "    duration = get_duration(direction, frame_width, frame_height, duration)\n",
    "    record = input(\"Because we are limited by the dimensions of the webcam, the video will actually be {} seconds long.\\n\"\n",
    "                   .format(np.round(duration/24,2))+\n",
    "                   \"Would you like to continue? Enter \\'y\\' for yes and \\'n\\' for n.\\n\")\n",
    "    while record!='n' and record!='y':\n",
    "        record = input(\"I'm sorry that is an invalid response. Enter \\'y\\' for yes or and \\'n\\' for no.\\n\")\n",
    "    while record=='n':\n",
    "        duration = int(input(\"For how many seconds would you like to record?\\n\"))\n",
    "        duration = get_duration(direction, frame_width, frame_height, duration)\n",
    "        record = input(\"Because we are limited by the dimensions of the webcam, the video will actually be {} seconds long. \\n\"\n",
    "                       .format(np.round(duration/24,2))+\n",
    "                   \"Would you like to continue? Enter \\'y\\' for yes and \\'n\\' for n.\\n\")\n",
    "        while record!='n' and record!='y':\n",
    "            direction = input(\"I'm sorry that is an invalid response. Enter \\'y\\' for yes or and \\'n\\' for no.\\n\")\n",
    "    clear_output()\n",
    "    return (file, direction, duration)"
   ]
  },
  {
   "cell_type": "code",
   "execution_count": null,
   "metadata": {},
   "outputs": [],
   "source": [
    "def get_vid():\n",
    "    # initialize camera\n",
    "    cam = cv2.VideoCapture(0)\n",
    "    frame_width = int(cam.get(3))\n",
    "    frame_height = int(cam.get(4))\n",
    "    # grabs user input to configure time warp scan\n",
    "    file, direction, duration = get_settings(frame_width, frame_height)\n",
    "    print(\"You have two seconds to get in position.\")\n",
    "    time.sleep(2)\n",
    "    clear_output()\n",
    "    if direction==\"lr\":\n",
    "        snip_width=int(frame_width/duration)\n",
    "        frame_count=1\n",
    "        display_handle=display(None, display_id=True)\n",
    "        while frame_count <= duration:\n",
    "            frame = cam.read()[1][:,::-1,:]\n",
    "            if not frame_count-1:\n",
    "                store=frame[:,0:frame_count*snip_width,:]\n",
    "            else:\n",
    "                store=np.append(store, frame[:,(frame_count-1)*snip_width:frame_count*snip_width,:],axis=1)\n",
    "            frame[:,:frame_count*snip_width,:]=store\n",
    "            frame[:,frame_count*snip_width:(frame_count+1)*snip_width,:]=[209, 199, 50]\n",
    "            file.write(frame)\n",
    "            display_handle.update(Image(data=cv2.imencode('.jpeg', frame)[1]))\n",
    "            frame_count+=1\n",
    "    if direction==\"ud\":\n",
    "        snip_width=int(frame_height/duration)\n",
    "        frame_count=1\n",
    "        display_handle=display(None, display_id=True)\n",
    "        while frame_count <= duration:\n",
    "            frame = cam.read()[1][:,::-1,:]\n",
    "            if not frame_count-1:\n",
    "                store=frame[0:frame_count*snip_width,:,:]\n",
    "            else:\n",
    "                store=np.append(store, frame[(frame_count-1)*snip_width:frame_count*snip_width,:,:],axis=0)\n",
    "            frame[:frame_count*snip_width,:,:]=store\n",
    "            frame[frame_count*snip_width:(frame_count+1)*snip_width,:,:]=[209, 199, 50]\n",
    "            file.write(frame)\n",
    "            display_handle.update(Image(data=cv2.imencode('.jpeg', frame)[1]))\n",
    "            frame_count+=1\n",
    "    cam.release()\n",
    "    file.release()\n",
    "    display_handle.update(Image(data=cv2.imencode('.jpeg', store)[1]))\n",
    "    return store"
   ]
  },
  {
   "cell_type": "code",
   "execution_count": null,
   "metadata": {},
   "outputs": [],
   "source": [
    "store=get_vid()"
   ]
  }
 ],
 "metadata": {
  "kernelspec": {
   "display_name": "Python 3",
   "language": "python",
   "name": "python3"
  },
  "language_info": {
   "codemirror_mode": {
    "name": "ipython",
    "version": 3
   },
   "file_extension": ".py",
   "mimetype": "text/x-python",
   "name": "python",
   "nbconvert_exporter": "python",
   "pygments_lexer": "ipython3",
   "version": "3.8.3"
  }
 },
 "nbformat": 4,
 "nbformat_minor": 4
}
